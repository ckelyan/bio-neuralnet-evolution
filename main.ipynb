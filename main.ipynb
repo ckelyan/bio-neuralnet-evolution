{
 "cells": [
  {
   "cell_type": "code",
   "execution_count": 90,
   "id": "8b94efea",
   "metadata": {},
   "outputs": [],
   "source": [
    "import matplotlib.pyplot as plt\n",
    "import numpy as np\n",
    "import math\n",
    "import yaml\n",
    "\n",
    "from time import sleep\n",
    "from IPython import display"
   ]
  },
  {
   "cell_type": "code",
   "execution_count": 91,
   "id": "28dc1669",
   "metadata": {},
   "outputs": [],
   "source": [
    "with open(\"params.yaml\", \"r\") as f:\n",
    "    params = yaml.safe_load(f)[\"one\"]"
   ]
  },
  {
   "cell_type": "code",
   "execution_count": 92,
   "id": "c691a322",
   "metadata": {},
   "outputs": [],
   "source": [
    "params[\"mean_physics\"] = np.array([\n",
    "    params[\"mean_death\"],\n",
    "    params[\"mean_sex\"],\n",
    "    params[\"mean_strength\"],\n",
    "    params[\"mean_velocity\"],\n",
    "])"
   ]
  },
  {
   "cell_type": "code",
   "execution_count": 93,
   "id": "b2a127ac",
   "metadata": {},
   "outputs": [],
   "source": [
    "params[\"std_physics\"] = np.array([\n",
    "    params[\"std_death\"],\n",
    "    params[\"std_sex\"],\n",
    "    params[\"std_strength\"],    \n",
    "    params[\"std_velocity\"],    \n",
    "])"
   ]
  },
  {
   "cell_type": "code",
   "execution_count": 94,
   "id": "d6e2bd5f",
   "metadata": {},
   "outputs": [],
   "source": [
    "class Cell:\n",
    "    def __init__(self):\n",
    "        self.grid_size = params[\"grid_size\"]\n",
    "        self.alive = True\n",
    "        self.age = 0\n",
    "        self.phys_dna = np.random.normal(0, 1, (len(params[\"mean_physics\"]))) * params[\"std_physics\"] + params[\"mean_physics\"]\n",
    "        self.brain_dna = np.random.normal(0, 0.01, (params[\"num_actions\"], params[\"num_sensors\"]))\n",
    "        self.death_age = self.phys_dna[0]                    \n",
    "        self.sex = self.phys_dna[1].round()\n",
    "        self.strength = self.phys_dna[2]\n",
    "        self.velocity = self.phys_dna[3].round()\n",
    "        self.pos = np.random.uniform(0, params[\"grid_size\"]-1, 2).round()\n",
    "        self.sensors = np.zeros((params[\"num_sensors\"],1))   \n",
    "        self.actions = np.zeros((params[\"num_actions\"],1))  \n",
    "        \n",
    "    def live(self,clock, pos_map):\n",
    "        self.move()\n",
    "        self.update_sensors(clock, pos_map)\n",
    "        self.think()\n",
    "        self.age += 1\n",
    "        if self.age >= self.death_age:\n",
    "            self.alive = False\n",
    "    \n",
    "    def update_sensors(self,clock, pos_map):\n",
    "        self.sensors = np.array([\n",
    "            1,\n",
    "            np.random.random(1).item(), \n",
    "            np.sin(np.pi*clock/10).item(),\n",
    "            self.pos[0] / self.grid_size, \n",
    "            self.pos[1] / self.grid_size,\n",
    "        ])    \n",
    "               \n",
    "    def think(self):\n",
    "        self.actions = (1 / (1 + np.exp(-1 * self.brain_dna @ self.sensors))).round()   \n",
    "        \n",
    "    def move(self):\n",
    "        self.pos = np.maximum.reduce([np.minimum.reduce([self.pos + (self.actions[:2].ravel() - self.actions[2:4].ravel()) * self.velocity, np.ones(2)*(self.grid_size-1)]),np.zeros(2)])\n",
    "        "
   ]
  },
  {
   "cell_type": "code",
   "execution_count": 283,
   "id": "9114441e",
   "metadata": {},
   "outputs": [],
   "source": [
    "class Sim:\n",
    "    def __init__(self, *args, **kwargs):\n",
    "        self.clock = 0\n",
    "        self.size = params[\"grid_size\"]\n",
    "        self.ncell = params[\"n_cell\"]\n",
    "        self.grid = np.zeros((self.size, self.size), dtype=int)\n",
    "        self.cells = [Cell() for _ in range(params[\"n_cell\"])]\n",
    "        self.pos_map = 0\n",
    "    \n",
    "    \n",
    "    def call_all(self, attr):\n",
    "        methods = [getattr(e, f\"{attr}\") for e in self.cells]\n",
    "        \n",
    "        def run_all(*args, **kwargs):\n",
    "            return [method(*args, **kwargs) for method in methods]\n",
    "        \n",
    "        return run_all\n",
    "    \n",
    "    def update(self):\n",
    "        if not np.any(self.cells):\n",
    "            return \"dead\"\n",
    "        \n",
    "        for cell in self.cells:\n",
    "            cell.live(self.clock, self.pos_map)\n",
    "        self.clock +=1\n",
    "        self.call_all(\"think\")\n",
    "        self.cells = [c for c in self.cells if c.alive]\n",
    "        \n",
    "    def get_grid(self):\n",
    "        self.grid = np.zeros((self.size, self.size), dtype=int)\n",
    "        self.pos_map = list(map(lambda cell: [int(cell.pos[0]),int(cell.pos[1])], self.cells))\n",
    "        rows, cols = zip(*self.pos_map)\n",
    "        self.grid[rows, cols] = 1\n",
    "    \n",
    "    def plotgrid(self):\n",
    "        plt.title(f\"Generation {self.clock}\")\n",
    "        plt.imshow(self.grid, interpolation=\"none\", cmap=\"GnBu\")"
   ]
  },
  {
   "cell_type": "code",
   "execution_count": 284,
   "id": "495f5645",
   "metadata": {},
   "outputs": [],
   "source": [
    "s = Sim()"
   ]
  },
  {
   "cell_type": "code",
   "execution_count": 285,
   "id": "c880b7c8",
   "metadata": {},
   "outputs": [
    {
     "data": {
      "image/png": "[encoded data removed]",
      "text/plain": [
       "<Figure size 432x288 with 1 Axes>"
      ]
     },
     "metadata": {
      "needs_background": "light"
     },
     "output_type": "display_data"
    }
   ],
   "source": [
    "s.update()\n",
    "s.get_grid()\n",
    "s.plotgrid()"
   ]
  },
  {
   "cell_type": "code",
   "execution_count": 291,
   "id": "9d8f994b",
   "metadata": {},
   "outputs": [
    {
     "data": {
      "text/plain": [
       "<__main__.Cell at 0x7f8cce2eae50>"
      ]
     },
     "execution_count": 291,
     "metadata": {},
     "output_type": "execute_result"
    }
   ],
   "source": [
    "np.any(s.cells)"
   ]
  }
 ],
 "metadata": {
  "kernelspec": {
   "display_name": "Python 3 (ipykernel)",
   "language": "python",
   "name": "python3"
  },
  "language_info": {
   "codemirror_mode": {
    "name": "ipython",
    "version": 3
   },
   "file_extension": ".py",
   "mimetype": "text/x-python",
   "name": "python",
   "nbconvert_exporter": "python",
   "pygments_lexer": "ipython3",
   "version": "3.9.5"
  }
 },
 "nbformat": 4,
 "nbformat_minor": 5
}
